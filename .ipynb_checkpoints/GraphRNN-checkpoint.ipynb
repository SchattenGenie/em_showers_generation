{
 "cells": [
  {
   "cell_type": "code",
   "execution_count": 2,
   "metadata": {},
   "outputs": [],
   "source": [
    "import matplotlib.pyplot as plt\n",
    "import numpy as np\n",
    "import seaborn as sns\n",
    "sns.set(font_scale=2)"
   ]
  },
  {
   "cell_type": "code",
   "execution_count": 3,
   "metadata": {},
   "outputs": [],
   "source": [
    "import networkx as nx\n",
    "\n",
    "import torch\n",
    "import torch.nn as nn\n",
    "import torch.nn.functional as F\n",
    "import torch.optim as optim\n",
    "from torch.nn import Sequential"
   ]
  },
  {
   "cell_type": "code",
   "execution_count": 4,
   "metadata": {},
   "outputs": [],
   "source": [
    "device = torch.device('cuda:0')"
   ]
  },
  {
   "cell_type": "code",
   "execution_count": 5,
   "metadata": {},
   "outputs": [],
   "source": [
    "import torch_geometric.transforms as T\n",
    "import torch_cluster\n",
    "import torch_geometric\n",
    "\n",
    "from torch_geometric.nn import NNConv, GCNConv, GraphConv\n",
    "from torch_geometric.nn import PointConv, EdgeConv, SplineConv"
   ]
  },
  {
   "cell_type": "code",
   "execution_count": 6,
   "metadata": {},
   "outputs": [
    {
     "data": {
      "text/plain": [
       "[(0, 1),\n",
       " (0, 19),\n",
       " (0, 10),\n",
       " (1, 2),\n",
       " (1, 8),\n",
       " (19, 18),\n",
       " (19, 3),\n",
       " (10, 9),\n",
       " (10, 11),\n",
       " (2, 6),\n",
       " (8, 7),\n",
       " (18, 17),\n",
       " (3, 4),\n",
       " (9, 13),\n",
       " (11, 12),\n",
       " (6, 5),\n",
       " (7, 14),\n",
       " (17, 16),\n",
       " (5, 15)]"
      ]
     },
     "execution_count": 6,
     "metadata": {},
     "output_type": "execute_result"
    }
   ],
   "source": [
    "G = nx.dodecahedral_graph()\n",
    "list(nx.bfs_edges(G, 0))"
   ]
  },
  {
   "cell_type": "code",
   "execution_count": 8,
   "metadata": {},
   "outputs": [],
   "source": [
    "graph_init_state_nn = nn.Linear(5, 20)"
   ]
  },
  {
   "cell_type": "code",
   "execution_count": 7,
   "metadata": {},
   "outputs": [],
   "source": [
    "class GraphRNN:\n",
    "    def __init__(self, m):\n",
    "        self.m = m\n",
    "        self.node_rnn = nn.GRUCell(20, 20)\n",
    "        self.edge_nn = nn.Sequential(nn.Linear(20, self.m), nn.Sigmoid())\n",
    "        self.edge_prob = nn.Sequential(nn.Linear(20, 1), nn.Sigmoid())\n",
    "        self.feature_generator = nn.Linear(20, 5)\n",
    "        \n",
    "    def forward(self, graph_state, s_edges):\n",
    "        edge_state = 0\n",
    "        graph = [graph_state]\n",
    "        for i in range(s_edges.shape[0]):\n",
    "            graph_state = self.node_rnn(graph_state, edge_states[i])\n",
    "            edge_state = self.edge_nn(new_graph_state)\n",
    "            graph.append(graph_state)"
   ]
  },
  {
   "cell_type": "code",
   "execution_count": null,
   "metadata": {},
   "outputs": [],
   "source": []
  }
 ],
 "metadata": {
  "kernelspec": {
   "display_name": "Python 3",
   "language": "python",
   "name": "python3"
  },
  "language_info": {
   "codemirror_mode": {
    "name": "ipython",
    "version": 3
   },
   "file_extension": ".py",
   "mimetype": "text/x-python",
   "name": "python",
   "nbconvert_exporter": "python",
   "pygments_lexer": "ipython3",
   "version": "3.6.8"
  }
 },
 "nbformat": 4,
 "nbformat_minor": 2
}
