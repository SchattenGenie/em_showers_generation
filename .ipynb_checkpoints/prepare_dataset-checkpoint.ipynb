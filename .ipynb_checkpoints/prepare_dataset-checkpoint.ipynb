{
 "cells": [
  {
   "cell_type": "code",
   "execution_count": 10,
   "metadata": {},
   "outputs": [],
   "source": [
    "import uproot\n",
    "import pandas as pd\n",
    "import numpy as np\n",
    "\n",
    "def load_mc(filename=\"mcdata_taue2.root\", step=1):\n",
    "    f = uproot.open(filename)\n",
    "    mc = f['Data'].pandas.df([\"Event_id\", \"ele_P\", \"BT_X\", \"BT_Y\",\n",
    "                              \"BT_Z\",\"BT_SX\", \"BT_SY\",\"ele_x\", \n",
    "                              \"ele_y\", \"ele_z\", \"ele_sx\", \"ele_sy\", \"chisquare\", ], flatten=False)\n",
    "    pmc = pd.DataFrame(mc)\n",
    "    pmc['numtracks'] = pmc.BT_X.apply(lambda x: len(x))\n",
    "    # cuts\n",
    "    shapechange = [pmc.shape[0]]\n",
    "    pmc = pmc[pmc.ele_P > 0.1]\n",
    "    shapechange.append(pmc.shape[0])\n",
    "\n",
    "    pmc = pmc[pmc.ele_z < 0]\n",
    "    shapechange.append(pmc.shape[0])\n",
    "\n",
    "    pmc = pmc[pmc.numtracks > 3]\n",
    "    shapechange.append(pmc.shape[0])\n",
    "    print(\"numtracks reduction by cuts: \", shapechange)\n",
    "    pmc['m_BT_X'] = pmc.BT_X.apply(lambda x: x.mean())\n",
    "    pmc['m_BT_Y'] = pmc.BT_Y.apply(lambda x: x.mean())\n",
    "    pmc['m_BT_Z'] = pmc.BT_Z.apply(lambda x: x.mean())\n",
    "\n",
    "    print(\"len(pmc): {len}\".format(len=len(pmc)))\n",
    "    return pmc"
   ]
  },
  {
   "cell_type": "code",
   "execution_count": 26,
   "metadata": {},
   "outputs": [
    {
     "name": "stdout",
     "output_type": "stream",
     "text": [
      "numtracks reduction by cuts:  [18724, 18679, 9616, 9106]\n",
      "len(pmc): 9106\n"
     ]
    }
   ],
   "source": [
    "pmc = load_mc(filename='./data/mcdata_taue2.root', step=1)"
   ]
  },
  {
   "cell_type": "code",
   "execution_count": 27,
   "metadata": {},
   "outputs": [
    {
     "data": {
      "text/plain": [
       "Event_id                                                  4586\n",
       "ele_P                                                  36.6597\n",
       "BT_X         [-12795.279, -12795.536, -12795.117, -12843.53...\n",
       "BT_Y         [37317.43, 37316.953, 37316.758, 37391.957, 37...\n",
       "BT_Z         [-26878.5, -26877.945, -26877.19, -25604.922, ...\n",
       "BT_SX        [-0.03736506, -0.041414507, -0.03618029, -0.04...\n",
       "BT_SY        [0.05847942, 0.058261085, 0.057884686, 0.05989...\n",
       "ele_x                                                 -12791.5\n",
       "ele_y                                                  37311.5\n",
       "ele_z                                                   -26980\n",
       "ele_sx                                               -0.046723\n",
       "ele_sy                                               0.0754437\n",
       "chisquare    [0.6740895, 0.85637194, 0.79782254, 0.77434564...\n",
       "numtracks                                                 3664\n",
       "m_BT_X                                                -14007.7\n",
       "m_BT_Y                                                 39283.6\n",
       "m_BT_Z                                                 9768.46\n",
       "Name: 0, dtype: object"
      ]
     },
     "execution_count": 27,
     "metadata": {},
     "output_type": "execute_result"
    }
   ],
   "source": [
    "pmc.iloc[0]"
   ]
  },
  {
   "cell_type": "code",
   "execution_count": 52,
   "metadata": {},
   "outputs": [],
   "source": [
    "from tqdm import tqdm\n",
    "def normalize_showers(pmc):\n",
    "    showers = []\n",
    "    for idx in tqdm(pmc.index):\n",
    "        shower = pmc.loc[idx]\n",
    "        shower_normalized = {\n",
    "            'SX': shower['BT_X'] - shower['ele_x'],\n",
    "            'SY': shower['BT_Y'] - shower['ele_y'],\n",
    "            'SZ': shower['BT_Z'] - shower['ele_z'],\n",
    "            'TX': np.tan(np.arctan(shower['BT_SX']) - np.arctan(shower['ele_sx'])),\n",
    "            'TY': np.tan(np.arctan(shower['BT_SY']) - np.arctan(shower['ele_sy'])),\n",
    "            'ele_P': [shower['ele_P'] for _ in range(len(shower['BT_X']))],\n",
    "            #'chisquare': shower['chisquare']\n",
    "        }\n",
    "        shower_normalized['SX'] -= shower_normalized['SZ'] * shower['ele_sx']\n",
    "        shower_normalized['SY'] -= shower_normalized['SZ'] * shower['ele_sy']\n",
    "        showers.append(shower_normalized)\n",
    "    return showers"
   ]
  },
  {
   "cell_type": "code",
   "execution_count": 53,
   "metadata": {},
   "outputs": [
    {
     "name": "stderr",
     "output_type": "stream",
     "text": [
      "100%|██████████| 9106/9106 [00:43<00:00, 209.77it/s]\n"
     ]
    }
   ],
   "source": [
    "showers = normalize_showers(pmc=pmc)"
   ]
  },
  {
   "cell_type": "code",
   "execution_count": 54,
   "metadata": {},
   "outputs": [],
   "source": [
    "showers = [shower for shower in showers if len(shower['TX']) > 70]\n",
    "showers = [shower for shower in showers if len(shower['TX']) < 3000]"
   ]
  },
  {
   "cell_type": "code",
   "execution_count": 55,
   "metadata": {},
   "outputs": [
    {
     "data": {
      "text/plain": [
       "8019"
      ]
     },
     "execution_count": 55,
     "metadata": {},
     "output_type": "execute_result"
    }
   ],
   "source": [
    "len(showers)"
   ]
  },
  {
   "cell_type": "code",
   "execution_count": 58,
   "metadata": {},
   "outputs": [],
   "source": [
    "df = pd.DataFrame(showers)"
   ]
  },
  {
   "cell_type": "code",
   "execution_count": 59,
   "metadata": {},
   "outputs": [],
   "source": [
    "df.to_csv('./data/showers.csv')"
   ]
  },
  {
   "cell_type": "code",
   "execution_count": 49,
   "metadata": {},
   "outputs": [
    {
     "data": {
      "text/plain": [
       "dict_keys(['SX', 'SY', 'SZ', 'TX', 'TY', 'ele_P', 'chisquare'])"
      ]
     },
     "execution_count": 49,
     "metadata": {},
     "output_type": "execute_result"
    }
   ],
   "source": [
    "showers[0].keys()"
   ]
  },
  {
   "cell_type": "code",
   "execution_count": 51,
   "metadata": {},
   "outputs": [
    {
     "data": {
      "text/plain": [
       "(317, 317, 317, 317, 317, 317, 321)"
      ]
     },
     "execution_count": 51,
     "metadata": {},
     "output_type": "execute_result"
    }
   ],
   "source": [
    "# len(showers[0]['SX']), len(showers[0]['SY']), len(showers[0]['SZ']), len(showers[0]['TX']), len(showers[0]['TY']), len(showers[0]['ele_P']), len(showers[0]['chisquare'])"
   ]
  },
  {
   "cell_type": "code",
   "execution_count": null,
   "metadata": {},
   "outputs": [],
   "source": []
  }
 ],
 "metadata": {
  "kernelspec": {
   "display_name": "Python 3",
   "language": "python",
   "name": "python3"
  },
  "language_info": {
   "codemirror_mode": {
    "name": "ipython",
    "version": 3
   },
   "file_extension": ".py",
   "mimetype": "text/x-python",
   "name": "python",
   "nbconvert_exporter": "python",
   "pygments_lexer": "ipython3",
   "version": "3.6.5"
  }
 },
 "nbformat": 4,
 "nbformat_minor": 2
}
