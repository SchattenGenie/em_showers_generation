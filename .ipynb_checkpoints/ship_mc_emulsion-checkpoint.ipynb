{
 "cells": [
  {
   "cell_type": "code",
   "execution_count": null,
   "metadata": {},
   "outputs": [],
   "source": [
    "!pip install networkx"
   ]
  },
  {
   "cell_type": "code",
   "execution_count": 1,
   "metadata": {},
   "outputs": [
    {
     "ename": "ModuleNotFoundError",
     "evalue": "No module named 'root_numpy'",
     "output_type": "error",
     "traceback": [
      "\u001b[0;31m---------------------------------------------------------------------------\u001b[0m",
      "\u001b[0;31mModuleNotFoundError\u001b[0m                       Traceback (most recent call last)",
      "\u001b[0;32m<ipython-input-1-fec8ca102838>\u001b[0m in \u001b[0;36m<module>\u001b[0;34m\u001b[0m\n\u001b[0;32m----> 1\u001b[0;31m \u001b[0;32mimport\u001b[0m \u001b[0mroot_numpy\u001b[0m \u001b[0;32mas\u001b[0m \u001b[0mrnp\u001b[0m\u001b[0;34m\u001b[0m\u001b[0;34m\u001b[0m\u001b[0m\n\u001b[0m\u001b[1;32m      2\u001b[0m \u001b[0mget_ipython\u001b[0m\u001b[0;34m(\u001b[0m\u001b[0;34m)\u001b[0m\u001b[0;34m.\u001b[0m\u001b[0mrun_line_magic\u001b[0m\u001b[0;34m(\u001b[0m\u001b[0;34m'matplotlib'\u001b[0m\u001b[0;34m,\u001b[0m \u001b[0;34m'inline'\u001b[0m\u001b[0;34m)\u001b[0m\u001b[0;34m\u001b[0m\u001b[0;34m\u001b[0m\u001b[0m\n\u001b[1;32m      3\u001b[0m \u001b[0;32mimport\u001b[0m \u001b[0mmatplotlib\u001b[0m\u001b[0;34m.\u001b[0m\u001b[0mpyplot\u001b[0m \u001b[0;32mas\u001b[0m \u001b[0mplt\u001b[0m\u001b[0;34m\u001b[0m\u001b[0;34m\u001b[0m\u001b[0m\n\u001b[1;32m      4\u001b[0m \u001b[0;32mimport\u001b[0m \u001b[0mnumpy\u001b[0m \u001b[0;32mas\u001b[0m \u001b[0mnp\u001b[0m\u001b[0;34m\u001b[0m\u001b[0;34m\u001b[0m\u001b[0m\n\u001b[1;32m      5\u001b[0m \u001b[0;32mimport\u001b[0m \u001b[0mpandas\u001b[0m \u001b[0;32mas\u001b[0m \u001b[0mpd\u001b[0m\u001b[0;34m\u001b[0m\u001b[0;34m\u001b[0m\u001b[0m\n",
      "\u001b[0;31mModuleNotFoundError\u001b[0m: No module named 'root_numpy'"
     ]
    }
   ],
   "source": [
    "import root_numpy as rnp\n",
    "%matplotlib inline\n",
    "import matplotlib.pyplot as plt\n",
    "import numpy as np\n",
    "import pandas as pd\n",
    "import seaborn as snb\n",
    "import json\n",
    "import networkx as nx\n",
    "from mpl_toolkits.mplot3d import Axes3D\n",
    "from mpl_toolkits.mplot3d.art3d import Line3DCollection\n",
    "dZ = 205.\n",
    "BRICK_Z = 75000\n",
    "\n",
    "def plot3d(shower):\n",
    "    \"\"\"\n",
    "    Function for plotting shower\n",
    "    \"\"\"    \n",
    "\n",
    "    x0, y0, z0 = np.array(shower['TX']), np.array(shower['TY']), np.array(shower['TZ'])\n",
    "    sx, sy = np.array(shower['SX']), np.array(shower['SY'])\n",
    "\n",
    "    x1 = x0 + dZ * sx\n",
    "    y1 = y0 + dZ * sy\n",
    "    z1 = z0 + dZ\n",
    "    \n",
    "    start_points = np.array([x0, y0, z0]).T.reshape(-1, 3)\n",
    "    end_points = np.array([x1, y1, z1]).T.reshape(-1, 3)\n",
    "\n",
    "    C = plt.cm.Blues(0.9)\n",
    "    lc = Line3DCollection(list(zip(start_points, end_points)), colors=C, alpha=0.9, lw=2)\n",
    "\n",
    "    fig = plt.figure(figsize=(12,12))\n",
    "    ax = fig.gca(projection='3d')\n",
    "    ax.view_init(azim=-84, elev=0)\n",
    "    ax.add_collection3d(lc)\n",
    "    \n",
    "    ax.set_xlabel(\"x\")\n",
    "    ax.set_ylabel(\"y\")\n",
    "    ax.set_zlabel(\"z\") \n",
    "    ax.set_xlim(x0.min(), x1.max())\n",
    "    ax.set_ylim(y0.min(), y1.max())\n",
    "    ax.set_zlim(z0.min(), z1.max())"
   ]
  },
  {
   "cell_type": "code",
   "execution_count": 2,
   "metadata": {},
   "outputs": [],
   "source": [
    "# scale factor mm -> \\nu m\n",
    "scale = 10000"
   ]
  },
  {
   "cell_type": "markdown",
   "metadata": {},
   "source": [
    "# Geometry"
   ]
  },
  {
   "cell_type": "code",
   "execution_count": 3,
   "metadata": {},
   "outputs": [],
   "source": [
    "import glob"
   ]
  },
  {
   "cell_type": "code",
   "execution_count": 4,
   "metadata": {},
   "outputs": [
    {
     "ename": "SyntaxError",
     "evalue": "invalid syntax (<ipython-input-4-7923a6ec6706>, line 1)",
     "output_type": "error",
     "traceback": [
      "\u001b[0;36m  File \u001b[0;32m\"<ipython-input-4-7923a6ec6706>\"\u001b[0;36m, line \u001b[0;32m1\u001b[0m\n\u001b[0;31m    filenames = glob.glob('./ship.conical.PG_11-TGeant4.root')+\u001b[0m\n\u001b[0m                                                               ^\u001b[0m\n\u001b[0;31mSyntaxError\u001b[0m\u001b[0;31m:\u001b[0m invalid syntax\n"
     ]
    }
   ],
   "source": [
    "filenames = glob.glob('./data/ship.conical.PG_11-TGeant4.root')"
   ]
  },
  {
   "cell_type": "code",
   "execution_count": null,
   "metadata": {},
   "outputs": [],
   "source": [
    "def open_shower_file(filename):\n",
    "    prefixMC = 'MCTrack'\n",
    "    prefixTargetPoint = 'TargetPoint'\n",
    "    showers_data_root = rnp.root2array(filename, treename='cbmsim', branches=[prefixMC+'.fPx', \n",
    "                                                                              prefixMC+'.fPy', \n",
    "                                                                              prefixMC+'.fPz', \n",
    "                                                                              prefixMC+'.fStartX', \n",
    "                                                                              prefixMC+'.fStartY', \n",
    "                                                                              prefixMC+'.fStartZ',\n",
    "                                                                              prefixMC+'.fMotherId',\n",
    "                                                                              prefixMC+'.fPdgCode',\n",
    "                                                                              prefixMC+'.fM',\n",
    "                                                                              prefixMC+'.fW',\n",
    "                                                                              prefixTargetPoint+'.fPx', \n",
    "                                                                              prefixTargetPoint+'.fPy', \n",
    "                                                                              prefixTargetPoint+'.fPz', \n",
    "                                                                              prefixTargetPoint+'.fX', \n",
    "                                                                              prefixTargetPoint+'.fY', \n",
    "                                                                              prefixTargetPoint+'.fZ',\n",
    "                                                                              prefixTargetPoint+'.fTime',\n",
    "                                                                              prefixTargetPoint+'.fLength',\n",
    "                                                                              prefixTargetPoint+'.fELoss',\n",
    "                                                                              prefixTargetPoint+'.fDetectorID',\n",
    "                                                                              prefixTargetPoint+'.fTrackID',\n",
    "                                                                              prefixTargetPoint+'.fLink'])\n",
    "    return showers_data_root"
   ]
  },
  {
   "cell_type": "code",
   "execution_count": null,
   "metadata": {},
   "outputs": [],
   "source": [
    "%%time\n",
    "showers_data_root = open_shower_file(filename=filenames[0])"
   ]
  },
  {
   "cell_type": "code",
   "execution_count": null,
   "metadata": {},
   "outputs": [],
   "source": [
    "import networkx as nx"
   ]
  },
  {
   "cell_type": "code",
   "execution_count": null,
   "metadata": {},
   "outputs": [],
   "source": [
    "def gen_nodes_for_edge(N, indices, fPx_sim, fPy_sim, fPz_sim, fStartX_sim, fStartY_sim, fStartZ_sim):\n",
    "    nodes = []\n",
    "    for i, idx in enumerate(indices):\n",
    "        nodes.append(\n",
    "            (\n",
    "                i + N,\n",
    "                {\n",
    "                    'SX': fPx_sim[idx]/fPz_sim[idx],\n",
    "                    'SY': fPy_sim[idx]/fPz_sim[idx],\n",
    "                    'TX': fStartX_sim[idx],\n",
    "                    'TY': fStartY_sim[idx],\n",
    "                    'TZ': fStartZ_sim[idx]\n",
    "                }\n",
    "            )\n",
    "        )\n",
    "    nodes = sorted(nodes, key=lambda x: x[1]['TZ'])\n",
    "    return nodes\n",
    "\n",
    "def create_particle_graph(fMotherId_mc, fTrackID_sim, mask_sim, \n",
    "                          fPx_sim, fPy_sim, fPz_sim, \n",
    "                          fStartX_sim, fStartY_sim, fStartZ_sim):\n",
    "    G = nx.DiGraph()\n",
    "    G.add_nodes_from(list(range(len(fMotherId_mc))))\n",
    "\n",
    "    ids = np.arange(len(fMotherId_mc))\n",
    "    for node in ids[1:]:\n",
    "        G.add_edge(fMotherId_mc[node], node)\n",
    "    \n",
    "    nodes_not_in_graph = list(set(ids) - set(np.unique(fTrackID_sim[np.isin(fTrackID_sim, ids)])))\n",
    "    for node in nodes_not_in_graph:\n",
    "        G.add_edges_from(list(product(list(G.predecessors(node)), list(G.successors(node)))))\n",
    "        G.remove_node(node)\n",
    "        \n",
    "    N = 0\n",
    "    for node in G:\n",
    "        mask_local = mask_sim & (fTrackID_sim == node)\n",
    "        G.node[node]['nodes'] = gen_nodes_for_edge(N, np.where(mask_local)[0], \n",
    "                                                   fPx_sim, fPy_sim, fPz_sim, \n",
    "                                                   fStartX_sim, fStartY_sim, fStartZ_sim)\n",
    "        N += len(G.node[node]['nodes'])\n",
    "        \n",
    "    return G"
   ]
  },
  {
   "cell_type": "code",
   "execution_count": null,
   "metadata": {},
   "outputs": [],
   "source": [
    "def modify_graph_with_tracks(G, g, graph_node, last_track_node, first_run=False):\n",
    "    if not first_run:\n",
    "        g.add_nodes_from(G.node[graph_node]['nodes'])\n",
    "        g.add_edge(last_track_node, G.node[graph_node]['nodes'][0][0])\n",
    "        g.add_path([n[0] for n in G.node[graph_node]['nodes']])\n",
    "    last_track_node = G.node[graph_node]['nodes'][-1][0]\n",
    "    for new_graph_node in G.successors(graph_node):\n",
    "        modify_graph_with_tracks(G=G, g=g, \n",
    "                                 graph_node=new_graph_node, \n",
    "                                 last_track_node=last_track_node)\n",
    "        \n",
    "def create_track_graph(G):\n",
    "    graph_node = list(G.nodes())[0]\n",
    "\n",
    "    g = nx.DiGraph()\n",
    "    g.add_nodes_from(G.node[graph_node]['nodes'])\n",
    "\n",
    "    g.add_path([n[0] for n in G.node[graph_node]['nodes']])\n",
    "\n",
    "    last_track_node = G.node[graph_node]['nodes'][-1][0]\n",
    "    \n",
    "    modify_graph_with_tracks(G=G, g=g, last_track_node=last_track_node, \n",
    "                             graph_node=graph_node, first_run=True)\n",
    "    \n",
    "    return g"
   ]
  },
  {
   "cell_type": "code",
   "execution_count": null,
   "metadata": {},
   "outputs": [],
   "source": [
    "fPx_mc, fPy_mc, fPz_mc, fStartX_mc, \\\n",
    "        fStartY_mc, fStartZ_mc, fMotherId_mc, fPdgCode_mc, \\\n",
    "        fM_mc, fW_mc, fPx_sim, fPy_sim, fPz_sim, fStartX_sim, \\\n",
    "        fStartY_sim, fStartZ_sim, fTime_sim, fLength_sim, \\\n",
    "        fELoss_sim, fDetectorID_sim, fTrackID_sim, fLink_sim = showers_data_root[6]\n",
    "\n",
    "\n",
    "mask_sim = np.full_like(fPx_sim, fill_value=True, dtype=np.bool)\n",
    "\n",
    "mask_sim = mask_sim & (np.abs(fPx_sim / fPz_sim) <= 1.) & (np.abs(fPy_sim / fPz_sim) <= 1.)\n",
    "fTrackID_sim[~mask_sim] = -2\n",
    "mask_sim = mask_sim & (np.isin(fTrackID_sim, np.arange(len(fMotherId_mc))))"
   ]
  },
  {
   "cell_type": "code",
   "execution_count": null,
   "metadata": {
    "scrolled": true
   },
   "outputs": [],
   "source": [
    "%%time\n",
    "\n",
    "G = create_particle_graph(fMotherId_mc, fTrackID_sim, mask_sim, \n",
    "                          fPx_sim, fPy_sim, fPz_sim, \n",
    "                          fStartX_sim, fStartY_sim, fStartZ_sim)\n",
    "\n",
    "g = create_track_graph(G)"
   ]
  },
  {
   "cell_type": "code",
   "execution_count": null,
   "metadata": {},
   "outputs": [],
   "source": [
    "plt.figure(figsize=(20, 20))\n",
    "pos = nx.drawing.layout.kamada_kawai_layout(g)\n",
    "nx.draw_networkx(g, pos)\n",
    "plt.show()"
   ]
  },
  {
   "cell_type": "code",
   "execution_count": null,
   "metadata": {},
   "outputs": [],
   "source": [
    "from projects.work.opera_tools.opera_distance_metric import opera_distance_metric_py\n",
    "def dict_to_vec(d):\n",
    "    return np.array([0., d['TX'] * scale, d['TY'] * scale, d['TZ'] * scale, d['SX'], d['SY']])"
   ]
  },
  {
   "cell_type": "code",
   "execution_count": null,
   "metadata": {},
   "outputs": [],
   "source": [
    "from collections import namedtuple\n",
    "def graph_to_df(g):\n",
    "    df = pd.DataFrame([g.nodes[i] for i in g])\n",
    "    # df.loc[:,'TX'] *= scale\n",
    "    # df.loc[:,'TY'] *= scale\n",
    "    # df.loc[:,'TZ'] *= scale\n",
    "    return df\n",
    "\n",
    "\n",
    "shower_adj = namedtuple('shower_adj', field_names=['x', 'adj', 'ele_p'])"
   ]
  },
  {
   "cell_type": "code",
   "execution_count": null,
   "metadata": {},
   "outputs": [],
   "source": [
    "from tqdm import tqdm_notebook as tqdm\n",
    "z_start = -3256.67\n",
    "z_end = -3234.4465\n",
    "from collections import namedtuple\n",
    "\n",
    "\n",
    "def extract_showers(showers_data_root, LIM=100):\n",
    "    showers = []\n",
    "    \n",
    "    for shower_data_root in tqdm(showers_data_root):\n",
    "        # extract data\n",
    "        fPx_mc, fPy_mc, fPz_mc, fStartX_mc, \\\n",
    "        fStartY_mc, fStartZ_mc, fMotherId_mc, _, \\\n",
    "        fM_mc, fW_mc, fPx_sim, fPy_sim, fPz_sim, fStartX_sim, \\\n",
    "        fStartY_sim, fStartZ_sim, fTime_sim, fLength_sim, \\\n",
    "        fELoss_sim, fDetectorID_sim, fTrackID_sim, fLink_sim = shower_data_root\n",
    "\n",
    "        \n",
    "        # scale mc data \n",
    "        fStartX_mc = scale * fStartX_mc; fStartY_mc = scale * fStartY_mc; fStartZ_mc = scale * fStartZ_mc\n",
    "        # scale simulation data\n",
    "        fStartX_sim = scale * fStartX_sim; fStartY_sim = scale * fStartY_sim; fStartZ_sim = scale * fStartZ_sim\n",
    "        \n",
    "        # create mask filled with True values\n",
    "        mask_sim = np.full_like(fPx_sim, fill_value=True, dtype=np.bool)\n",
    "\n",
    "        # get rid of tracks with tg(alpha) > 1\n",
    "        # because they are moving in wrong direction\n",
    "        mask_sim = mask_sim & (np.abs(fPx_sim / fPz_sim) <= 1.) & (np.abs(fPy_sim / fPz_sim) <= 2.)\n",
    "        fTrackID_sim[~mask_sim] = -2\n",
    "\n",
    "        # 0-length tracks looks bad\n",
    "        # mask_sim = mask_sim & (fLength_sim != 0)\n",
    "\n",
    "        # select tracks that only associated with MC EM-shower \n",
    "        mask_sim = mask_sim & (np.isin(fTrackID_sim, np.arange(len(fMotherId_mc))))\n",
    "\n",
    "        if sum(mask_sim) < LIM:\n",
    "            continue\n",
    "\n",
    "        # filtration by min Z; minZ = Z of mother particle\n",
    "        # minZ_sim = -3253.0 * scale\n",
    "        # minZ_sim = np.percentile(fStartZ_sim, q=1)\n",
    "        minZ_sim = fStartZ_mc[0]\n",
    "        mask_sim = mask_sim & (fStartZ_sim >= z_start * scale)\n",
    "\n",
    "        # min Z + one brick\n",
    "        maxZ_sim = minZ_sim + BRICK_Z\n",
    "        mask_sim = mask_sim & (fStartZ_sim <= z_end * scale) \n",
    "\n",
    "        # centers of X, Y showers are X, Y of mother particle\n",
    "        centerX_sim = fStartX_mc[0]\n",
    "        centerY_sim = fStartY_mc[0]\n",
    "\n",
    "        if sum(mask_sim) < LIM:\n",
    "            continue\n",
    "        \n",
    "        \n",
    "        G = create_particle_graph(fMotherId_mc, fTrackID_sim, mask_sim, \n",
    "                                  fPx_sim, fPy_sim, fPz_sim, \n",
    "                                  fStartX_sim, fStartY_sim, fStartZ_sim - z_start * scale)\n",
    "\n",
    "        g = create_track_graph(G)\n",
    "        \n",
    "        shower = shower_adj(x=graph_to_df(g),\n",
    "                            adj=nx.adjacency_matrix(g).toarray(),\n",
    "                            ele_p=np.sqrt(fPx_mc[0]**2 + fPy_mc[0]**2 + fPz_mc[0]**2))\n",
    "        showers.append(shower)\n",
    "        \"\"\"\n",
    "        shower_sim = {\n",
    "            'SX': list((fPx_sim/fPz_sim)[mask_sim]), # tg(alpha)\n",
    "            'SY': list((fPy_sim/fPz_sim)[mask_sim]), # tg(alpha)\n",
    "            'TX': list(fStartX_sim[mask_sim] - centerX_sim),\n",
    "            'TY': list(fStartY_sim[mask_sim] - centerY_sim),\n",
    "            'TZ': list(fStartZ_sim[mask_sim] - minZ_sim),\n",
    "            'MotherPX': fPx_mc[0],\n",
    "            'MotherPY': fPy_mc[0],\n",
    "            'MotherPZ': fPz_mc[0],\n",
    "            'MotherPM': fM_mc[0],\n",
    "            'MotherPTX': fStartX_sim[0],\n",
    "            'MotherPTY': fStartY_sim[0],\n",
    "            'MotherPTZ': fStartZ_sim[0],\n",
    "            'EnergyLossPerTrack': fELoss_sim[mask_sim],\n",
    "            'AssociatedParticle': fTrackID_sim[mask_sim],\n",
    "            'ParticleChain': fMotherId_mc\n",
    "        }    \n",
    "\n",
    "        shower_mc = {\n",
    "            'SX': list((fPx_mc/fPz_mc)[mask_mc]), # tg(alpha)\n",
    "            'SY': list((fPy_mc/fPz_mc)[mask_mc]), # tg(alpha)\n",
    "            'TX': list(fStartX_mc[mask_mc] - centerX_sim),\n",
    "            'TY': list(fStartY_mc[mask_mc] - centerY_sim),\n",
    "            'TZ': list(fStartZ_mc[mask_mc] - minZ_sim),\n",
    "        }\n",
    "        \"\"\"\n",
    "\n",
    "        \n",
    "    return showers"
   ]
  },
  {
   "cell_type": "code",
   "execution_count": null,
   "metadata": {
    "scrolled": true
   },
   "outputs": [],
   "source": [
    "showers = extract_showers(showers_data_root)"
   ]
  },
  {
   "cell_type": "code",
   "execution_count": null,
   "metadata": {
    "scrolled": true
   },
   "outputs": [],
   "source": [
    "for shower in showers[:3]:\n",
    "    plot3d(shower.x)"
   ]
  },
  {
   "cell_type": "code",
   "execution_count": null,
   "metadata": {},
   "outputs": [],
   "source": [
    "import pickle\n",
    "pickle.dump(showers, open(\"./data/showers_ship.pkl\", \"wb\"))"
   ]
  }
 ],
 "metadata": {
  "kernelspec": {
   "display_name": "Python 3",
   "language": "python",
   "name": "python3"
  },
  "language_info": {
   "codemirror_mode": {
    "name": "ipython",
    "version": 3
   },
   "file_extension": ".py",
   "mimetype": "text/x-python",
   "name": "python",
   "nbconvert_exporter": "python",
   "pygments_lexer": "ipython3",
   "version": "3.6.8"
  }
 },
 "nbformat": 4,
 "nbformat_minor": 2
}
