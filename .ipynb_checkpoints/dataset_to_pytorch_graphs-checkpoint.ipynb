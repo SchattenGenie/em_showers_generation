{
 "cells": [
  {
   "cell_type": "code",
   "execution_count": 1,
   "metadata": {},
   "outputs": [],
   "source": [
    "import matplotlib.pyplot as plt\n",
    "import numpy as np\n",
    "import pandas as pd\n",
    "import seaborn as sns\n",
    "sns.set(font_scale=2)"
   ]
  },
  {
   "cell_type": "code",
   "execution_count": 2,
   "metadata": {},
   "outputs": [],
   "source": [
    "# !cd tools/ && python setup_opera_distance_metric.py build_ext --inplace"
   ]
  },
  {
   "cell_type": "code",
   "execution_count": 3,
   "metadata": {},
   "outputs": [],
   "source": [
    "from tools.opera_distance_metric import generate_k_nearest_graph, \\\n",
    "                                        opera_distance_metric_py, \\\n",
    "                                        generate_radius_graph"
   ]
  },
  {
   "cell_type": "code",
   "execution_count": 4,
   "metadata": {},
   "outputs": [],
   "source": [
    "df = pd.read_pickle('./data/showers.pkl')"
   ]
  },
  {
   "cell_type": "code",
   "execution_count": 5,
   "metadata": {},
   "outputs": [],
   "source": [
    "for i, shower in df.iterrows():\n",
    "    break"
   ]
  },
  {
   "cell_type": "code",
   "execution_count": 6,
   "metadata": {},
   "outputs": [
    {
     "ename": "NameError",
     "evalue": "name 'X' is not defined",
     "output_type": "error",
     "traceback": [
      "\u001b[0;31m---------------------------------------------------------------------------\u001b[0m",
      "\u001b[0;31mNameError\u001b[0m                                 Traceback (most recent call last)",
      "\u001b[0;32m<ipython-input-6-1d95e4313641>\u001b[0m in \u001b[0;36m<module>\u001b[0;34m\u001b[0m\n\u001b[0;32m----> 1\u001b[0;31m \u001b[0medges_from\u001b[0m\u001b[0;34m,\u001b[0m \u001b[0medges_to\u001b[0m\u001b[0;34m,\u001b[0m \u001b[0mdistances\u001b[0m \u001b[0;34m=\u001b[0m \u001b[0mgenerate_k_nearest_graph\u001b[0m\u001b[0;34m(\u001b[0m\u001b[0mX\u001b[0m\u001b[0;34m,\u001b[0m \u001b[0mk\u001b[0m\u001b[0;34m=\u001b[0m\u001b[0;36m2\u001b[0m\u001b[0;34m)\u001b[0m\u001b[0;34m\u001b[0m\u001b[0;34m\u001b[0m\u001b[0m\n\u001b[0m\u001b[1;32m      2\u001b[0m \u001b[0;31m# edges_from, edges_to, distances = generate_radius_graph(X, threshold=2)\u001b[0m\u001b[0;34m\u001b[0m\u001b[0;34m\u001b[0m\u001b[0;34m\u001b[0m\u001b[0m\n",
      "\u001b[0;31mNameError\u001b[0m: name 'X' is not defined"
     ]
    }
   ],
   "source": [
    "edges_from, edges_to, distances = generate_k_nearest_graph(X, k=2)\n",
    "# edges_from, edges_to, distances = generate_radius_graph(X, threshold=2)"
   ]
  },
  {
   "cell_type": "code",
   "execution_count": null,
   "metadata": {},
   "outputs": [],
   "source": [
    "import networkx as nx"
   ]
  },
  {
   "cell_type": "code",
   "execution_count": null,
   "metadata": {},
   "outputs": [],
   "source": [
    "len(edges_from)"
   ]
  },
  {
   "cell_type": "code",
   "execution_count": null,
   "metadata": {},
   "outputs": [],
   "source": [
    "plt.figure(figsize=(18, 12))\n",
    "nx.draw_kamada_kawai(G)"
   ]
  },
  {
   "cell_type": "code",
   "execution_count": null,
   "metadata": {},
   "outputs": [],
   "source": [
    "import collections\n",
    "\n",
    "degree_sequence = sorted([d for n, d in G.degree()], reverse=True)  # degree sequence\n",
    "# print \"Degree sequence\", degree_sequence\n",
    "degreeCount = collections.Counter(degree_sequence)\n",
    "deg, cnt = zip(*degreeCount.items())\n",
    "\n",
    "fig, ax = plt.subplots()\n",
    "plt.bar(deg, cnt, width=0.80, color='b')\n",
    "\n",
    "plt.title(\"Degree Histogram\")\n",
    "plt.ylabel(\"Count\")\n",
    "plt.xlabel(\"Degree\")\n",
    "ax.set_xticks([d + 0.4 for d in deg])\n",
    "ax.set_xticklabels(deg)"
   ]
  },
  {
   "cell_type": "code",
   "execution_count": 15,
   "metadata": {},
   "outputs": [],
   "source": [
    "from graph_rnn import bfs_seq, encode_adj, decode_adj, encode_adj_flexible, decode_adj_flexible"
   ]
  },
  {
   "cell_type": "code",
   "execution_count": 16,
   "metadata": {},
   "outputs": [],
   "source": [
    "adj = np.asarray(nx.to_numpy_matrix(G))\n",
    "G = nx.from_numpy_matrix(adj)"
   ]
  },
  {
   "cell_type": "code",
   "execution_count": 18,
   "metadata": {},
   "outputs": [],
   "source": [
    "adj_output = encode_adj(adj, max_prev_node=5)"
   ]
  },
  {
   "cell_type": "code",
   "execution_count": 20,
   "metadata": {},
   "outputs": [
    {
     "data": {
      "text/plain": [
       "array([  0,   1,   2,   5,   6,   4,   9,  10,   3,   8,  12,  15,   7,\n",
       "        11,  13,  14,  20,  17,  21,  16,  25,  28,  31,  19,  26,  27,\n",
       "        18,  23,  29,  22,  24,  30,  32,  39,  41,  38,  42,  48,  36,\n",
       "        43,  47,  34,  44,  46,  33,  35,  45,  37,  52,  55,  40,  51,\n",
       "        56,  49,  54,  50,  53,  57,  58,  63,  72,  74,  59,  62,  65,\n",
       "        67,  71,  60,  61,  64,  66,  68,  70,  75,  69,  73,  84,  88,\n",
       "        77,  85,  87,  76,  80,  83,  89,  81,  82,  90,  92,  94,  95,\n",
       "        98,  86,  79,  93, 106, 107, 101, 104,  78,  97,  99, 103,  91,\n",
       "        96, 108, 100, 105, 102, 120, 121, 113, 114, 118, 117, 119, 110,\n",
       "       116, 122, 112, 123, 109, 115, 111, 134, 136, 124, 128, 139, 146,\n",
       "       127, 130, 133, 138, 148, 147, 137, 132, 135, 140, 150, 151, 154,\n",
       "       156, 131, 149, 144, 155, 153, 129, 143, 145, 158, 159, 163, 152,\n",
       "       126, 142, 157, 165, 164, 162, 125, 141, 166, 160, 161, 169, 170,\n",
       "       168, 171, 173, 167, 174, 172, 176, 179, 175, 177, 178, 184, 185,\n",
       "       190, 186, 192, 181, 183, 194, 199, 201, 191, 180, 182, 193, 197,\n",
       "       200, 202, 188, 198, 187, 189, 196, 204, 195, 203, 208, 211, 207,\n",
       "       213, 209, 210, 218, 206, 212, 205, 222, 216, 223, 217, 231, 215,\n",
       "       226, 233, 214, 219, 227, 230, 234, 236, 229, 248, 251, 221, 232,\n",
       "       249, 255, 220, 224, 247, 253, 225, 228, 235, 238, 241, 246, 237,\n",
       "       242, 250, 239, 240, 243, 244, 252, 245, 254, 264, 257, 259, 256,\n",
       "       260, 258, 262, 265, 261, 271, 275, 276, 279, 263, 274, 281, 277,\n",
       "       280, 270, 273, 282, 278, 267, 272, 283, 266, 269, 284, 268, 293,\n",
       "       298, 307, 311, 314, 291, 301, 313, 290, 302, 309, 288, 312, 308,\n",
       "       287, 292, 297, 310, 289, 296, 315, 286, 295, 305, 285, 294, 300,\n",
       "       304, 316, 299, 303, 306])"
      ]
     },
     "execution_count": 20,
     "metadata": {},
     "output_type": "execute_result"
    }
   ],
   "source": [
    "x_idx"
   ]
  },
  {
   "cell_type": "code",
   "execution_count": 28,
   "metadata": {},
   "outputs": [
    {
     "data": {
      "image/png": "[encoded data removed]",
      "text/plain": [
       "<Figure size 864x576 with 1 Axes>"
      ]
     },
     "metadata": {
      "needs_background": "light"
     },
     "output_type": "display_data"
    }
   ],
   "source": [
    "plt.figure(figsize=(12, 8))\n",
    "plt.hist(np.log(np.array(distances) + 1), bins=100);"
   ]
  },
  {
   "cell_type": "code",
   "execution_count": 35,
   "metadata": {},
   "outputs": [
    {
     "data": {
      "text/plain": [
       "(317, 5)"
      ]
     },
     "execution_count": 35,
     "metadata": {},
     "output_type": "execute_result"
    }
   ],
   "source": [
    "X[x_idx][:, 1:].shape"
   ]
  },
  {
   "cell_type": "code",
   "execution_count": 36,
   "metadata": {},
   "outputs": [
    {
     "data": {
      "text/plain": [
       "(316, 5)"
      ]
     },
     "execution_count": 36,
     "metadata": {},
     "output_type": "execute_result"
    }
   ],
   "source": [
    "adj_output.shape"
   ]
  },
  {
   "cell_type": "code",
   "execution_count": 41,
   "metadata": {},
   "outputs": [
    {
     "data": {
      "text/plain": [
       "array([ 4.63724082, 10.85973892,  0.26697121,  1.58732301,  4.85085965,\n",
       "       10.51224491,  1.83187773,  5.45811849,  2.29074014, 10.19201079,\n",
       "        5.27650018, 10.35198813,  4.22337713,  4.57822645,  3.21353563,\n",
       "        1.58912876,  1.95941359,  1.99998359,  1.08378973, 11.06338781,\n",
       "        4.24873665,  4.43721873,  5.24121496,  3.87081568,  3.68028458,\n",
       "        2.62120083,  2.78144249,  2.65962086,  1.53907347,  5.59297738,\n",
       "        2.87873854,  9.39249399,  3.62370899,  4.80606137,  3.03821293,\n",
       "        4.56418981,  3.20688087,  5.16863222,  3.62031389, 10.69674299,\n",
       "        2.57373941,  3.46655284, 13.10959009,  4.27550765,  1.58279297,\n",
       "        5.30722191,  3.60864582,  5.0316578 ,  9.31007012,  3.74781596,\n",
       "       -0.48137548,  3.11108462,  5.2994527 ,  1.07090908,  0.47281815,\n",
       "        5.96301815,  8.62036482,  4.34016407,  1.89201975,  6.07095379,\n",
       "        4.81989081,  5.63286035,  3.15797822,  4.21787674,  0.6376238 ,\n",
       "        2.60790227,  2.56877898,  4.54124591, -1.39562782,  2.53730225,\n",
       "        4.97849468,  4.59358775, 11.72137028,  3.00969899,  3.74583225,\n",
       "        5.25170518,  3.58989792, 10.18438268,  2.05372309,  4.09576118,\n",
       "        5.29199716,  0.66815441,  1.91820883,  1.61578338,  3.38533063,\n",
       "        0.86610223,  2.66931466,  1.3021705 ,  4.90430456,  4.44647483,\n",
       "        5.5181511 ,  6.03399153,  6.35413298,  6.69069295,  3.78716286,\n",
       "        4.7116865 ,  4.8576571 ,  2.57182585, 11.15137492,  2.31875074,\n",
       "        2.80535878,  0.8240277 ,  3.31744695,  1.86149629,  6.12278115,\n",
       "        6.02269302,  6.20536331,  4.17899791,  5.6830174 ,  5.98748922,\n",
       "        6.77162302,  5.37465416,  1.9529549 ,  2.08812832,  3.81288222,\n",
       "        5.441459  ,  4.53517525,  3.41782975,  4.40904117,  4.09498454,\n",
       "       11.29764125,  6.2887914 ,  6.12121937,  7.18716728,  7.24662426,\n",
       "        7.82430456,  7.1771346 ,  5.90611979,  5.77133616,  4.54525301,\n",
       "        2.59146408,  4.95593878,  5.08676015,  3.57219742, 11.71760259,\n",
       "        2.04882116,  3.69392215,  6.58694261,  6.91770804,  6.56082834,\n",
       "        3.01671933,  6.37915268,  6.2434611 , 10.08260173,  3.23327249,\n",
       "        6.76584079,  1.78580084,  6.03730913,  5.1011407 ,  3.47498869,\n",
       "        7.35218514,  5.54750325,  5.00444704,  4.17774988,  2.81239362,\n",
       "        2.67500134,  1.92859074, 12.78064231,  4.4127372 ,  6.84421369,\n",
       "        3.80976202,  4.63546631,  3.29541995, -1.04239725,  4.03024883,\n",
       "        7.18075695,  7.57764168,  5.59359602,  3.82676336,  5.43669839,\n",
       "        4.95744059,  5.43534749,  4.25042577,  5.3720789 ,  4.40944032,\n",
       "        8.69382737,  2.68123112,  5.57993302,  5.27688644,  6.39689851,\n",
       "        6.38952972,  6.64625513,  4.70983565,  7.95691159,  5.01425599,\n",
       "        5.51880886,  6.12996112,  4.33029168,  8.94270169,  5.40803435,\n",
       "        6.74902841,  5.54480291,  4.84823294,  4.72765987,  5.43662883,\n",
       "        5.88717156,  5.69799736,  6.85740394,  3.84864376,  5.42795529,\n",
       "        3.22279894,  4.93722324,  5.66269612, 12.45336905,  6.31592817,\n",
       "        2.9077727 ,  0.4039702 ,  5.71896929,  4.10754375, 11.96359657,\n",
       "        5.02384216,  3.23308352,  6.21217995,  6.3379081 ,  5.45293642,\n",
       "        5.6880858 ,  4.3902729 ,  3.82383078,  3.50943239,  7.4732299 ,\n",
       "        3.73670695,  4.45218202,  5.51944609,  7.38187723,  7.15787569,\n",
       "        4.83396698,  4.05012552,  5.2028299 ,  6.59643631,  3.2644093 ,\n",
       "        4.63011581,  4.84160681,  4.19259296,  0.93485881,  4.57535792,\n",
       "       12.80143727,  6.67730599,  5.2273748 , -1.65431266,  5.78924833,\n",
       "        5.33366872, 10.43740902,  4.48307502,  3.89379939,  5.84442585,\n",
       "        5.5654781 ,  5.93868183,  6.01021461,  4.20202862,  5.04880175,\n",
       "        4.32514698,  3.49082195,  6.61956088,  4.03027172,  5.41620256,\n",
       "        8.61128998,  6.44037349,  5.64935933,  4.55949132,  4.72244524,\n",
       "        4.81457326, 13.20373604,  8.46513835,  7.32280806,  4.56599877,\n",
       "        6.14856964,  5.76720014,  2.99681002,  3.63214422,  5.95588411,\n",
       "        6.58503532,  2.42665416,  6.28897695,  7.11953802,  3.2104961 ,\n",
       "        6.48917335,  6.56645963,  7.57453926,  5.03460491,  5.26460535,\n",
       "        5.22537228, 11.00497462,  4.33497101,  6.67472461,  5.52725805,\n",
       "        5.02017837,  7.94548785,  5.8078401 ,  4.96348383,  4.29584428,\n",
       "       10.62591864,  2.47654167,  3.04389249,  5.29336433,  3.96220997,\n",
       "        2.71374886,  4.25636799,  7.24891344,  4.51565935,  6.14508495,\n",
       "        5.43848598,  4.62845811,  4.99087926,  6.52869087,  4.39702939,\n",
       "        3.19786868,  3.2497733 ,  4.06494768,  4.63974641,  2.97237241,\n",
       "        2.88961145,  4.26140787,  2.8916904 ,  4.80299355,  3.83691202,\n",
       "        6.39484683])"
      ]
     },
     "execution_count": 41,
     "metadata": {},
     "output_type": "execute_result"
    }
   ],
   "source": []
  },
  {
   "cell_type": "code",
   "execution_count": null,
   "metadata": {},
   "outputs": [],
   "source": []
  }
 ],
 "metadata": {
  "kernelspec": {
   "display_name": "Python 3",
   "language": "python",
   "name": "python3"
  },
  "language_info": {
   "codemirror_mode": {
    "name": "ipython",
    "version": 3
   },
   "file_extension": ".py",
   "mimetype": "text/x-python",
   "name": "python",
   "nbconvert_exporter": "python",
   "pygments_lexer": "ipython3",
   "version": "3.6.8"
  }
 },
 "nbformat": 4,
 "nbformat_minor": 2
}
